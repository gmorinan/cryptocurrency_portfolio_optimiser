{
 "cells": [
  {
   "cell_type": "code",
   "execution_count": 1,
   "metadata": {},
   "outputs": [],
   "source": [
    "import os\n",
    "import json\n",
    "import pandas as pd\n",
    "import numpy as np\n",
    "import cvxpy as cp\n",
    "import ast"
   ]
  },
  {
   "cell_type": "markdown",
   "metadata": {},
   "source": [
    "### read in data"
   ]
  },
  {
   "cell_type": "code",
   "execution_count": 2,
   "metadata": {},
   "outputs": [],
   "source": [
    "market_cap_categories = {\n",
    "    'XL Market Cap': 5e10,\n",
    "    'Large Market Cap': 1e10,\n",
    "    'Medium Market Cap': 5e9,\n",
    "    'Small Market Cap': 1e9\n",
    "}\n",
    "\n",
    "def define_marketcap_category(market_cap: float):\n",
    "    for key, value in market_cap_categories.items():\n",
    "        if market_cap > value:\n",
    "            return key\n",
    "    return 'XS Market Cap'"
   ]
  },
  {
   "cell_type": "code",
   "execution_count": 25,
   "metadata": {},
   "outputs": [],
   "source": [
    "def process_price_data(path: str ='data/prices.csv', window_size: int = 7, max_null_price: int = 50):\n",
    "\n",
    "    # read and pivot\n",
    "    df_prices = pd.read_csv(path, parse_dates=['date'])\n",
    "    pivot_price = df_prices.pivot(index='date', columns='coin', values='prices')\n",
    "\n",
    "    # drop any with too many null values\n",
    "    n_null_price = pivot_price.isna().sum()\n",
    "    min_null_price = max_null_price\n",
    "    to_drop = n_null_price[n_null_price > min_null_price].index.to_list()\n",
    "    pivot_price = pivot_price[[c for c in pivot_price.columns if c not in to_drop]]\n",
    "    \n",
    "    # compute expected return and covariance\n",
    "    pct_change = pivot_price.diff(window_size) / pivot_price\n",
    "    mu_expected_return = pct_change.mean()\n",
    "    sigma_covariance = pct_change.cov()\n",
    "    return mu_expected_return, sigma_covariance, df_prices, to_drop\n",
    "\n",
    "def process_coin_metadata(\n",
    "        to_drop: list,\n",
    "        metadata_path = 'data/coin_metadata.csv',\n",
    "        category_groupings_path = 'data/category_groupings.json',\n",
    "):\n",
    "    \n",
    "    with open(category_groupings_path, 'r', encoding='utf-8') as f:\n",
    "        dct_category_groupings = json.load(f)\n",
    "    lst_categories = sorted(set(np.concatenate([list(v) for v in dct_category_groupings.values()])))\n",
    "\n",
    "    df_meta = pd.read_csv(metadata_path)\n",
    "    df_meta = df_meta[~df_meta['id'].isin(to_drop)]\n",
    "    df_meta['categories'] = df_meta['categories'].apply(ast.literal_eval)\n",
    "    df_meta['market_cap_category'] = df_meta['market_caps'].map(define_marketcap_category)\n",
    "\n",
    "    df_categories = df_meta[['id','categories']].explode('categories')\n",
    "\n",
    "    dct_coin_category = pd.concat([\n",
    "        df_categories[df_categories['categories'].isin(lst_categories)].groupby('categories')['id'].apply(list),\n",
    "        df_meta.groupby('market_cap_category')['id'].apply(list)\n",
    "    ])\n",
    "\n",
    "    lst_assets = sorted(df_meta['id'])\n",
    "    lst_categories = sorted(dct_coin_category.keys())\n",
    "\n",
    "    return df_meta.set_index('id'), dct_category_groupings, dct_coin_category, lst_assets, lst_categories"
   ]
  },
  {
   "cell_type": "code",
   "execution_count": 26,
   "metadata": {},
   "outputs": [],
   "source": [
    "mu_expected_return, sigma_covariance, df_prices, to_drop = process_price_data()\n",
    "\n",
    "df_meta, dct_category_groupings, dct_coin_category, lst_assets, lst_categories = process_coin_metadata(to_drop=to_drop)\n",
    "\n",
    "n_assets = len(lst_assets)\n",
    "\n",
    "default_max_assets = 10\n",
    "\n",
    "default_min_weights_assets = {asset: 0.0 for asset in lst_assets}\n",
    "default_max_weights_assets = {asset: 0.5 for asset in lst_assets}\n",
    "\n",
    "default_min_weights_categories = {category: 0.0 for category in lst_categories}\n",
    "default_max_weights_categories = {category: 0.5 for category in lst_categories}"
   ]
  },
  {
   "cell_type": "code",
   "execution_count": 30,
   "metadata": {},
   "outputs": [
    {
     "name": "stderr",
     "output_type": "stream",
     "text": [
      "/Users/gm/repo/portfolio_opt/cryptocurrency_portfolio_optimiser/cryopt/lib/python3.10/site-packages/cvxpy/reductions/solvers/solving_chain.py:336: FutureWarning: \n",
      "    Your problem is being solved with the ECOS solver by default. Starting in \n",
      "    CVXPY 1.5.0, Clarabel will be used as the default solver instead. To continue \n",
      "    using ECOS, specify the ECOS solver explicitly using the ``solver=cp.ECOS`` \n",
      "    argument to the ``problem.solve`` method.\n",
      "    \n",
      "  warnings.warn(ECOS_DEPRECATION_MSG, FutureWarning)\n",
      "/Users/gm/repo/portfolio_opt/cryptocurrency_portfolio_optimiser/cryopt/lib/python3.10/site-packages/cvxpy/atoms/quad_form.py:228: UserWarning: Forming a nonconvex expression quad_form(x, indefinite).\n",
      "  warnings.warn(\"Forming a nonconvex expression quad_form(x, indefinite).\")\n"
     ]
    },
    {
     "data": {
      "text/plain": [
       "nosana          5.000000e-01\n",
       "bonk            5.000000e-01\n",
       "aioz-network    2.163253e-12\n",
       "paal-ai         1.388748e-12\n",
       "mantra-dao      5.118258e-13\n",
       "beam-2          4.814386e-13\n",
       "superfarm       4.066362e-13\n",
       "fetch-ai        3.503545e-13\n",
       "corgiai         3.490064e-13\n",
       "bittensor       3.394236e-13\n",
       "dtype: float64"
      ]
     },
     "execution_count": 30,
     "metadata": {},
     "output_type": "execute_result"
    }
   ],
   "source": [
    "weights = cp.Variable(n_assets)\n",
    "binary_selection = cp.Variable(n_assets, boolean=True)\n",
    "\n",
    "mu = mu_expected_return.values\n",
    "sigma = sigma_covariance.values\n",
    "sigma_wrapped = cp.psd_wrap(sigma)\n",
    "\n",
    "max_risk = 0.001  # Maximum acceptable variance (risk level)\n",
    "risk = cp.quad_form(weights, sigma_wrapped)\n",
    "\n",
    "expected_return = mu.T @ weights\n",
    "objective = cp.Maximize(expected_return)\n",
    "\n",
    "constraints = [\n",
    "    cp.sum(weights) == 1,  # Sum of weights is 1\n",
    "    weights >= 0,          # No short selling\n",
    "    #cp.sum(binary_selection) <= default_max_assets,  # No more than 5 assets\n",
    "    #weights <= binary_selection,     # Link weights to selection\n",
    "    weights >= [default_min_weights_assets[asset] for asset in lst_assets], #\n",
    "    weights <= [default_max_weights_assets[asset] for asset in lst_assets], #\n",
    "    risk <= max_risk\n",
    "]\n",
    "\n",
    "prob = cp.Problem(objective, constraints)\n",
    "prob.solve()\n",
    "\n",
    "optimized_weights = weights.value\n",
    "\n",
    "pd.Series(dict(zip(lst_assets, optimized_weights))).sort_values(ascending=False).head(10)"
   ]
  },
  {
   "cell_type": "code",
   "execution_count": null,
   "metadata": {},
   "outputs": [],
   "source": []
  }
 ],
 "metadata": {
  "kernelspec": {
   "display_name": "popt",
   "language": "python",
   "name": "python3"
  },
  "language_info": {
   "codemirror_mode": {
    "name": "ipython",
    "version": 3
   },
   "file_extension": ".py",
   "mimetype": "text/x-python",
   "name": "python",
   "nbconvert_exporter": "python",
   "pygments_lexer": "ipython3",
   "version": "3.10.6"
  }
 },
 "nbformat": 4,
 "nbformat_minor": 2
}
