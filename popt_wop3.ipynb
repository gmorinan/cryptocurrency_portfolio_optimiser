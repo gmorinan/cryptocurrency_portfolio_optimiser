{
 "cells": [
  {
   "cell_type": "code",
   "execution_count": 1,
   "metadata": {},
   "outputs": [],
   "source": [
    "import os\n",
    "import json\n",
    "import pandas as pd\n",
    "import numpy as np\n",
    "import cvxpy as cp\n",
    "import ast"
   ]
  },
  {
   "cell_type": "markdown",
   "metadata": {},
   "source": [
    "### read in data"
   ]
  },
  {
   "cell_type": "code",
   "execution_count": 2,
   "metadata": {},
   "outputs": [],
   "source": [
    "market_cap_categories = {\n",
    "    'XL Market Cap': 5e10,\n",
    "    'Large Market Cap': 1e10,\n",
    "    'Medium Market Cap': 5e9,\n",
    "    'Small Market Cap': 1e9\n",
    "}\n",
    "\n",
    "def define_marketcap_category(market_cap: float):\n",
    "    for key, value in market_cap_categories.items():\n",
    "        if market_cap > value:\n",
    "            return key\n",
    "    return 'XS Market Cap'"
   ]
  },
  {
   "cell_type": "code",
   "execution_count": 61,
   "metadata": {},
   "outputs": [],
   "source": [
    "def process_price_data(path: str ='data/prices.csv', window_size: int = 7, max_null_price: int = 50):\n",
    "\n",
    "    # read and pivot\n",
    "    df_prices = pd.read_csv(path, parse_dates=['date'])\n",
    "    pivot_price = df_prices.pivot(index='date', columns='coin', values='prices')\n",
    "\n",
    "    # drop any with too many null values\n",
    "    n_null_price = pivot_price.isna().sum()\n",
    "    min_null_price = max_null_price\n",
    "    to_drop = n_null_price[n_null_price > min_null_price].index.to_list()\n",
    "    pivot_price = pivot_price[[c for c in pivot_price.columns if c not in to_drop]]\n",
    "    \n",
    "    # compute expected return and covariance\n",
    "    pct_change = pivot_price.diff(window_size) / pivot_price\n",
    "    mu_expected_return = pct_change.mean()\n",
    "    sigma_covariance = pct_change.cov()\n",
    "    return mu_expected_return, sigma_covariance, df_prices, to_drop\n",
    "\n",
    "def process_coin_metadata(\n",
    "        to_drop: list,\n",
    "        metadata_path = 'data/coin_metadata.csv',\n",
    "        category_groupings_path = 'data/category_groupings.json',\n",
    "):\n",
    "    \n",
    "    with open(category_groupings_path, 'r', encoding='utf-8') as f:\n",
    "        dct_category_groupings = json.load(f)\n",
    "    lst_categories = sorted(set(np.concatenate([list(v) for v in dct_category_groupings.values()])))\n",
    "\n",
    "    df_meta = pd.read_csv(metadata_path)\n",
    "    df_meta = df_meta[~df_meta['id'].isin(to_drop)]\n",
    "    df_meta['categories'] = df_meta['categories'].apply(ast.literal_eval)\n",
    "    df_meta['market_cap_category'] = df_meta['market_caps'].map(define_marketcap_category)\n",
    "\n",
    "    df_categories = df_meta[['id','categories']].explode('categories')\n",
    "\n",
    "    dct_coin_category = pd.concat([\n",
    "        df_categories[df_categories['categories'].isin(lst_categories)].groupby('categories')['id'].apply(list),\n",
    "        df_meta.groupby('market_cap_category')['id'].apply(list)\n",
    "    ])\n",
    "\n",
    "    lst_assets = sorted(df_meta['id'])\n",
    "    lst_categories = sorted(dct_coin_category.keys())\n",
    "\n",
    "    return df_meta.set_index('id'), dct_category_groupings, dct_coin_category, lst_assets, lst_categories"
   ]
  },
  {
   "cell_type": "code",
   "execution_count": 100,
   "metadata": {},
   "outputs": [],
   "source": [
    "with open('replace.json','w') as f :\n",
    "    json.dump({key: sorted(val) for key, val in dct_category_groupings.items()},f)"
   ]
  },
  {
   "cell_type": "code",
   "execution_count": 97,
   "metadata": {},
   "outputs": [],
   "source": [
    "mu_expected_return, sigma_covariance, df_prices, to_drop = process_price_data()\n",
    "\n",
    "df_meta, dct_category_groupings, dct_coin_category, lst_assets, lst_categories = process_coin_metadata(to_drop=to_drop)\n",
    "\n",
    "\n",
    "min_weights_assets = {asset: 0.0 for asset in lst_assets}\n",
    "max_weights_assets = {asset: 0.5 for asset in lst_assets}\n",
    "\n",
    "min_weights_categories = {category: 0.0 for category in lst_categories}\n",
    "max_weights_categories = {category: 0.5 for category in lst_categories}\n",
    "\n",
    "min_weights_categories = {\n",
    "    grouping: {cat:0.0 for cat in categories}\n",
    "    for grouping, categories in dct_category_groupings.items()\n",
    "}\n",
    "\n",
    "max_weights_categories = {\n",
    "    grouping: {cat:1.0 for cat in categories}\n",
    "    for grouping, categories in dct_category_groupings.items()\n",
    "}\n"
   ]
  },
  {
   "cell_type": "code",
   "execution_count": 104,
   "metadata": {},
   "outputs": [
    {
     "ename": "KeyError",
     "evalue": "'Name'",
     "output_type": "error",
     "traceback": [
      "\u001b[0;31m---------------------------------------------------------------------------\u001b[0m",
      "\u001b[0;31mKeyError\u001b[0m                                  Traceback (most recent call last)",
      "File \u001b[0;32m~/repo/portfolio_opt/cryptocurrency_portfolio_optimiser/cryopt/lib/python3.10/site-packages/pandas/core/indexes/base.py:3805\u001b[0m, in \u001b[0;36mIndex.get_loc\u001b[0;34m(self, key)\u001b[0m\n\u001b[1;32m   3804\u001b[0m \u001b[38;5;28;01mtry\u001b[39;00m:\n\u001b[0;32m-> 3805\u001b[0m     \u001b[38;5;28;01mreturn\u001b[39;00m \u001b[38;5;28;43mself\u001b[39;49m\u001b[38;5;241;43m.\u001b[39;49m\u001b[43m_engine\u001b[49m\u001b[38;5;241;43m.\u001b[39;49m\u001b[43mget_loc\u001b[49m\u001b[43m(\u001b[49m\u001b[43mcasted_key\u001b[49m\u001b[43m)\u001b[49m\n\u001b[1;32m   3806\u001b[0m \u001b[38;5;28;01mexcept\u001b[39;00m \u001b[38;5;167;01mKeyError\u001b[39;00m \u001b[38;5;28;01mas\u001b[39;00m err:\n",
      "File \u001b[0;32mindex.pyx:167\u001b[0m, in \u001b[0;36mpandas._libs.index.IndexEngine.get_loc\u001b[0;34m()\u001b[0m\n",
      "File \u001b[0;32mindex.pyx:196\u001b[0m, in \u001b[0;36mpandas._libs.index.IndexEngine.get_loc\u001b[0;34m()\u001b[0m\n",
      "File \u001b[0;32mpandas/_libs/hashtable_class_helper.pxi:7081\u001b[0m, in \u001b[0;36mpandas._libs.hashtable.PyObjectHashTable.get_item\u001b[0;34m()\u001b[0m\n",
      "File \u001b[0;32mpandas/_libs/hashtable_class_helper.pxi:7089\u001b[0m, in \u001b[0;36mpandas._libs.hashtable.PyObjectHashTable.get_item\u001b[0;34m()\u001b[0m\n",
      "\u001b[0;31mKeyError\u001b[0m: 'Name'",
      "\nThe above exception was the direct cause of the following exception:\n",
      "\u001b[0;31mKeyError\u001b[0m                                  Traceback (most recent call last)",
      "Cell \u001b[0;32mIn[104], line 1\u001b[0m\n\u001b[0;32m----> 1\u001b[0m name_dict \u001b[38;5;241m=\u001b[39m \u001b[43mdf_meta\u001b[49m\u001b[43m[\u001b[49m\u001b[38;5;124;43m'\u001b[39;49m\u001b[38;5;124;43mName\u001b[39;49m\u001b[38;5;124;43m'\u001b[39;49m\u001b[43m]\u001b[49m\u001b[38;5;241m.\u001b[39mto_dict()\n",
      "File \u001b[0;32m~/repo/portfolio_opt/cryptocurrency_portfolio_optimiser/cryopt/lib/python3.10/site-packages/pandas/core/frame.py:4090\u001b[0m, in \u001b[0;36mDataFrame.__getitem__\u001b[0;34m(self, key)\u001b[0m\n\u001b[1;32m   4088\u001b[0m \u001b[38;5;28;01mif\u001b[39;00m \u001b[38;5;28mself\u001b[39m\u001b[38;5;241m.\u001b[39mcolumns\u001b[38;5;241m.\u001b[39mnlevels \u001b[38;5;241m>\u001b[39m \u001b[38;5;241m1\u001b[39m:\n\u001b[1;32m   4089\u001b[0m     \u001b[38;5;28;01mreturn\u001b[39;00m \u001b[38;5;28mself\u001b[39m\u001b[38;5;241m.\u001b[39m_getitem_multilevel(key)\n\u001b[0;32m-> 4090\u001b[0m indexer \u001b[38;5;241m=\u001b[39m \u001b[38;5;28;43mself\u001b[39;49m\u001b[38;5;241;43m.\u001b[39;49m\u001b[43mcolumns\u001b[49m\u001b[38;5;241;43m.\u001b[39;49m\u001b[43mget_loc\u001b[49m\u001b[43m(\u001b[49m\u001b[43mkey\u001b[49m\u001b[43m)\u001b[49m\n\u001b[1;32m   4091\u001b[0m \u001b[38;5;28;01mif\u001b[39;00m is_integer(indexer):\n\u001b[1;32m   4092\u001b[0m     indexer \u001b[38;5;241m=\u001b[39m [indexer]\n",
      "File \u001b[0;32m~/repo/portfolio_opt/cryptocurrency_portfolio_optimiser/cryopt/lib/python3.10/site-packages/pandas/core/indexes/base.py:3812\u001b[0m, in \u001b[0;36mIndex.get_loc\u001b[0;34m(self, key)\u001b[0m\n\u001b[1;32m   3807\u001b[0m     \u001b[38;5;28;01mif\u001b[39;00m \u001b[38;5;28misinstance\u001b[39m(casted_key, \u001b[38;5;28mslice\u001b[39m) \u001b[38;5;129;01mor\u001b[39;00m (\n\u001b[1;32m   3808\u001b[0m         \u001b[38;5;28misinstance\u001b[39m(casted_key, abc\u001b[38;5;241m.\u001b[39mIterable)\n\u001b[1;32m   3809\u001b[0m         \u001b[38;5;129;01mand\u001b[39;00m \u001b[38;5;28many\u001b[39m(\u001b[38;5;28misinstance\u001b[39m(x, \u001b[38;5;28mslice\u001b[39m) \u001b[38;5;28;01mfor\u001b[39;00m x \u001b[38;5;129;01min\u001b[39;00m casted_key)\n\u001b[1;32m   3810\u001b[0m     ):\n\u001b[1;32m   3811\u001b[0m         \u001b[38;5;28;01mraise\u001b[39;00m InvalidIndexError(key)\n\u001b[0;32m-> 3812\u001b[0m     \u001b[38;5;28;01mraise\u001b[39;00m \u001b[38;5;167;01mKeyError\u001b[39;00m(key) \u001b[38;5;28;01mfrom\u001b[39;00m \u001b[38;5;21;01merr\u001b[39;00m\n\u001b[1;32m   3813\u001b[0m \u001b[38;5;28;01mexcept\u001b[39;00m \u001b[38;5;167;01mTypeError\u001b[39;00m:\n\u001b[1;32m   3814\u001b[0m     \u001b[38;5;66;03m# If we have a listlike key, _check_indexing_error will raise\u001b[39;00m\n\u001b[1;32m   3815\u001b[0m     \u001b[38;5;66;03m#  InvalidIndexError. Otherwise we fall through and re-raise\u001b[39;00m\n\u001b[1;32m   3816\u001b[0m     \u001b[38;5;66;03m#  the TypeError.\u001b[39;00m\n\u001b[1;32m   3817\u001b[0m     \u001b[38;5;28mself\u001b[39m\u001b[38;5;241m.\u001b[39m_check_indexing_error(key)\n",
      "\u001b[0;31mKeyError\u001b[0m: 'Name'"
     ]
    }
   ],
   "source": [
    "name_dict = df_meta['Name'].to_dict()\n"
   ]
  },
  {
   "cell_type": "code",
   "execution_count": 108,
   "metadata": {},
   "outputs": [
    {
     "data": {
      "text/plain": [
       "['Ethereum Ecosystem',\n",
       " 'Avalanche Ecosystem',\n",
       " 'BNB Chain Ecosystem',\n",
       " 'Solana Ecosystem',\n",
       " 'Polygon Ecosystem',\n",
       " 'Near Protocol Ecosystem',\n",
       " 'Moonriver Ecosystem',\n",
       " 'Kava Ecosystem',\n",
       " 'Tron Ecosystem',\n",
       " 'Arbitrum Ecosystem',\n",
       " 'Harmony Ecosystem',\n",
       " 'Optimism Ecosystem',\n",
       " 'Cosmos Ecosystem',\n",
       " 'Gnosis Chain Ecosystem',\n",
       " 'Fantom Ecosystem',\n",
       " 'Polkadot Ecosystem',\n",
       " 'Moonbeam Ecosystem',\n",
       " 'Osmosis Ecosystem',\n",
       " 'Cronos Ecosystem',\n",
       " 'ZkSync Ecosystem',\n",
       " 'Metis Ecosystem',\n",
       " 'Velas Ecosystem',\n",
       " 'Base Ecosystem',\n",
       " 'Cardano Ecosystem',\n",
       " 'Arbitrum Nova Ecosystem',\n",
       " 'Ronin Ecosystem',\n",
       " 'Aptos Ecosystem',\n",
       " 'Curve Ecosystem']"
      ]
     },
     "execution_count": 108,
     "metadata": {},
     "output_type": "execute_result"
    }
   ],
   "source": [
    "dct_category_groupings['Ecosystem']"
   ]
  },
  {
   "cell_type": "code",
   "execution_count": 118,
   "metadata": {},
   "outputs": [
    {
     "data": {
      "text/plain": [
       "['Arbitrum Ecosystem',\n",
       " 'Avalanche Ecosystem',\n",
       " 'BNB Chain Ecosystem',\n",
       " 'Ethereum Ecosystem',\n",
       " 'Kava Ecosystem',\n",
       " 'Moonriver Ecosystem',\n",
       " 'Near Protocol Ecosystem',\n",
       " 'Polygon Ecosystem',\n",
       " 'Solana Ecosystem',\n",
       " 'Tron Ecosystem']"
      ]
     },
     "execution_count": 118,
     "metadata": {},
     "output_type": "execute_result"
    }
   ],
   "source": [
    "eco = df_meta[['market_caps','categories']].explode('categories')\n",
    "sorted(eco[eco['categories'].isin(dct_category_groupings['Ecosystem'])].groupby('categories')['market_caps'\n",
    "                                                                                       ].sum().sort_values().tail(10).index.to_list())"
   ]
  },
  {
   "cell_type": "code",
   "execution_count": 105,
   "metadata": {},
   "outputs": [
    {
     "data": {
      "text/html": [
       "<div>\n",
       "<style scoped>\n",
       "    .dataframe tbody tr th:only-of-type {\n",
       "        vertical-align: middle;\n",
       "    }\n",
       "\n",
       "    .dataframe tbody tr th {\n",
       "        vertical-align: top;\n",
       "    }\n",
       "\n",
       "    .dataframe thead th {\n",
       "        text-align: right;\n",
       "    }\n",
       "</style>\n",
       "<table border=\"1\" class=\"dataframe\">\n",
       "  <thead>\n",
       "    <tr style=\"text-align: right;\">\n",
       "      <th></th>\n",
       "      <th>symbol</th>\n",
       "      <th>name</th>\n",
       "      <th>asset_platform_id</th>\n",
       "      <th>market_cap_rank</th>\n",
       "      <th>categories</th>\n",
       "      <th>market_caps</th>\n",
       "      <th>market_cap_category</th>\n",
       "    </tr>\n",
       "    <tr>\n",
       "      <th>id</th>\n",
       "      <th></th>\n",
       "      <th></th>\n",
       "      <th></th>\n",
       "      <th></th>\n",
       "      <th></th>\n",
       "      <th></th>\n",
       "      <th></th>\n",
       "    </tr>\n",
       "  </thead>\n",
       "  <tbody>\n",
       "    <tr>\n",
       "      <th>bitcoin</th>\n",
       "      <td>btc</td>\n",
       "      <td>Bitcoin</td>\n",
       "      <td>NaN</td>\n",
       "      <td>1</td>\n",
       "      <td>[FTX Holdings, Cryptocurrency, Proof of Work (...</td>\n",
       "      <td>1.367669e+12</td>\n",
       "      <td>XL Market Cap</td>\n",
       "    </tr>\n",
       "    <tr>\n",
       "      <th>ethereum</th>\n",
       "      <td>eth</td>\n",
       "      <td>Ethereum</td>\n",
       "      <td>NaN</td>\n",
       "      <td>2</td>\n",
       "      <td>[FTX Holdings, Proof of Stake (PoS), Multicoin...</td>\n",
       "      <td>4.492210e+11</td>\n",
       "      <td>XL Market Cap</td>\n",
       "    </tr>\n",
       "    <tr>\n",
       "      <th>tether</th>\n",
       "      <td>usdt</td>\n",
       "      <td>Tether</td>\n",
       "      <td>ethereum</td>\n",
       "      <td>3</td>\n",
       "      <td>[FTX Holdings, Kava Ecosystem, Tron Ecosystem,...</td>\n",
       "      <td>1.033733e+11</td>\n",
       "      <td>XL Market Cap</td>\n",
       "    </tr>\n",
       "    <tr>\n",
       "      <th>binancecoin</th>\n",
       "      <td>bnb</td>\n",
       "      <td>BNB</td>\n",
       "      <td>NaN</td>\n",
       "      <td>4</td>\n",
       "      <td>[Alleged SEC Securities, FTX Holdings, Proof o...</td>\n",
       "      <td>9.533214e+10</td>\n",
       "      <td>XL Market Cap</td>\n",
       "    </tr>\n",
       "    <tr>\n",
       "      <th>solana</th>\n",
       "      <td>sol</td>\n",
       "      <td>Solana</td>\n",
       "      <td>NaN</td>\n",
       "      <td>5</td>\n",
       "      <td>[Alleged SEC Securities, FTX Holdings, Proof o...</td>\n",
       "      <td>8.184507e+10</td>\n",
       "      <td>XL Market Cap</td>\n",
       "    </tr>\n",
       "    <tr>\n",
       "      <th>...</th>\n",
       "      <td>...</td>\n",
       "      <td>...</td>\n",
       "      <td>...</td>\n",
       "      <td>...</td>\n",
       "      <td>...</td>\n",
       "      <td>...</td>\n",
       "      <td>...</td>\n",
       "    </tr>\n",
       "    <tr>\n",
       "      <th>icon</th>\n",
       "      <td>icx</td>\n",
       "      <td>ICON</td>\n",
       "      <td>NaN</td>\n",
       "      <td>250</td>\n",
       "      <td>[Smart Contract Platform]</td>\n",
       "      <td>3.332206e+08</td>\n",
       "      <td>XS Market Cap</td>\n",
       "    </tr>\n",
       "    <tr>\n",
       "      <th>ontology</th>\n",
       "      <td>ont</td>\n",
       "      <td>Ontology</td>\n",
       "      <td>NaN</td>\n",
       "      <td>252</td>\n",
       "      <td>[Proof of Stake (PoS), Masternodes, Smart Cont...</td>\n",
       "      <td>3.247287e+08</td>\n",
       "      <td>XS Market Cap</td>\n",
       "    </tr>\n",
       "    <tr>\n",
       "      <th>rollbit-coin</th>\n",
       "      <td>rlb</td>\n",
       "      <td>Rollbit Coin</td>\n",
       "      <td>ethereum</td>\n",
       "      <td>233</td>\n",
       "      <td>[Gambling, Solana Ecosystem, Ethereum Ecosystem]</td>\n",
       "      <td>3.150623e+08</td>\n",
       "      <td>XS Market Cap</td>\n",
       "    </tr>\n",
       "    <tr>\n",
       "      <th>ssv-network</th>\n",
       "      <td>ssv</td>\n",
       "      <td>SSV Network</td>\n",
       "      <td>ethereum</td>\n",
       "      <td>248</td>\n",
       "      <td>[Coinbase Ventures Portfolio, Ethereum Ecosystem]</td>\n",
       "      <td>3.141954e+08</td>\n",
       "      <td>XS Market Cap</td>\n",
       "    </tr>\n",
       "    <tr>\n",
       "      <th>blox</th>\n",
       "      <td>cdt</td>\n",
       "      <td>Blox</td>\n",
       "      <td>ethereum</td>\n",
       "      <td>249</td>\n",
       "      <td>[Ethereum Ecosystem]</td>\n",
       "      <td>2.682753e+08</td>\n",
       "      <td>XS Market Cap</td>\n",
       "    </tr>\n",
       "  </tbody>\n",
       "</table>\n",
       "<p>228 rows × 7 columns</p>\n",
       "</div>"
      ],
      "text/plain": [
       "             symbol          name asset_platform_id  market_cap_rank  \\\n",
       "id                                                                     \n",
       "bitcoin         btc       Bitcoin               NaN                1   \n",
       "ethereum        eth      Ethereum               NaN                2   \n",
       "tether         usdt        Tether          ethereum                3   \n",
       "binancecoin     bnb           BNB               NaN                4   \n",
       "solana          sol        Solana               NaN                5   \n",
       "...             ...           ...               ...              ...   \n",
       "icon            icx          ICON               NaN              250   \n",
       "ontology        ont      Ontology               NaN              252   \n",
       "rollbit-coin    rlb  Rollbit Coin          ethereum              233   \n",
       "ssv-network     ssv   SSV Network          ethereum              248   \n",
       "blox            cdt          Blox          ethereum              249   \n",
       "\n",
       "                                                     categories   market_caps  \\\n",
       "id                                                                              \n",
       "bitcoin       [FTX Holdings, Cryptocurrency, Proof of Work (...  1.367669e+12   \n",
       "ethereum      [FTX Holdings, Proof of Stake (PoS), Multicoin...  4.492210e+11   \n",
       "tether        [FTX Holdings, Kava Ecosystem, Tron Ecosystem,...  1.033733e+11   \n",
       "binancecoin   [Alleged SEC Securities, FTX Holdings, Proof o...  9.533214e+10   \n",
       "solana        [Alleged SEC Securities, FTX Holdings, Proof o...  8.184507e+10   \n",
       "...                                                         ...           ...   \n",
       "icon                                  [Smart Contract Platform]  3.332206e+08   \n",
       "ontology      [Proof of Stake (PoS), Masternodes, Smart Cont...  3.247287e+08   \n",
       "rollbit-coin   [Gambling, Solana Ecosystem, Ethereum Ecosystem]  3.150623e+08   \n",
       "ssv-network   [Coinbase Ventures Portfolio, Ethereum Ecosystem]  3.141954e+08   \n",
       "blox                                       [Ethereum Ecosystem]  2.682753e+08   \n",
       "\n",
       "             market_cap_category  \n",
       "id                                \n",
       "bitcoin            XL Market Cap  \n",
       "ethereum           XL Market Cap  \n",
       "tether             XL Market Cap  \n",
       "binancecoin        XL Market Cap  \n",
       "solana             XL Market Cap  \n",
       "...                          ...  \n",
       "icon               XS Market Cap  \n",
       "ontology           XS Market Cap  \n",
       "rollbit-coin       XS Market Cap  \n",
       "ssv-network        XS Market Cap  \n",
       "blox               XS Market Cap  \n",
       "\n",
       "[228 rows x 7 columns]"
      ]
     },
     "execution_count": 105,
     "metadata": {},
     "output_type": "execute_result"
    }
   ],
   "source": [
    "df_meta"
   ]
  },
  {
   "cell_type": "code",
   "execution_count": 103,
   "metadata": {},
   "outputs": [
    {
     "data": {
      "text/plain": [
       "['blur', 'space-id', 'superfarm']"
      ]
     },
     "execution_count": 103,
     "metadata": {},
     "output_type": "execute_result"
    }
   ],
   "source": [
    "dct_coin_category['NFT Marketplace']"
   ]
  },
  {
   "cell_type": "code",
   "execution_count": 102,
   "metadata": {},
   "outputs": [
    {
     "data": {
      "text/plain": [
       "['internet-computer',\n",
       " 'immutable-x',\n",
       " 'render-token',\n",
       " 'theta-token',\n",
       " 'fetch-ai',\n",
       " 'floki',\n",
       " 'gala',\n",
       " 'flow',\n",
       " 'axie-infinity',\n",
       " 'the-sandbox',\n",
       " 'apecoin',\n",
       " 'chiliz',\n",
       " 'decentraland',\n",
       " 'ronin',\n",
       " 'blur',\n",
       " 'illuvium',\n",
       " 'enjincoin',\n",
       " 'ethereum-name-service',\n",
       " 'space-id',\n",
       " 'memecoin-2',\n",
       " 'stepn',\n",
       " 'superfarm',\n",
       " 'project-galaxy',\n",
       " 'audius']"
      ]
     },
     "execution_count": 102,
     "metadata": {},
     "output_type": "execute_result"
    }
   ],
   "source": [
    "dct_coin_category['NFT']"
   ]
  },
  {
   "cell_type": "code",
   "execution_count": 94,
   "metadata": {},
   "outputs": [
    {
     "data": {
      "text/plain": [
       "dict_keys(['market_cap', 'portfolio', 'ecosystem', 'groupings_1', 'groupings_2'])"
      ]
     },
     "execution_count": 94,
     "metadata": {},
     "output_type": "execute_result"
    }
   ],
   "source": [
    "min_weights_categories.keys()"
   ]
  },
  {
   "cell_type": "markdown",
   "metadata": {},
   "source": [
    "# basic"
   ]
  },
  {
   "cell_type": "code",
   "execution_count": 43,
   "metadata": {},
   "outputs": [
    {
     "name": "stderr",
     "output_type": "stream",
     "text": [
      "/Users/gm/repo/portfolio_opt/cryptocurrency_portfolio_optimiser/cryopt/lib/python3.10/site-packages/cvxpy/reductions/solvers/solving_chain.py:336: FutureWarning: \n",
      "    Your problem is being solved with the ECOS solver by default. Starting in \n",
      "    CVXPY 1.5.0, Clarabel will be used as the default solver instead. To continue \n",
      "    using ECOS, specify the ECOS solver explicitly using the ``solver=cp.ECOS`` \n",
      "    argument to the ``problem.solve`` method.\n",
      "    \n",
      "  warnings.warn(ECOS_DEPRECATION_MSG, FutureWarning)\n",
      "/Users/gm/repo/portfolio_opt/cryptocurrency_portfolio_optimiser/cryopt/lib/python3.10/site-packages/cvxpy/atoms/quad_form.py:228: UserWarning: Forming a nonconvex expression quad_form(x, indefinite).\n",
      "  warnings.warn(\"Forming a nonconvex expression quad_form(x, indefinite).\")\n"
     ]
    },
    {
     "data": {
      "text/plain": [
       "nosana          5.000000e-01\n",
       "bonk            5.000000e-01\n",
       "aioz-network    1.881548e-12\n",
       "paal-ai         1.207052e-12\n",
       "mantra-dao      4.480167e-13\n",
       "beam-2          4.215667e-13\n",
       "superfarm       3.563607e-13\n",
       "fetch-ai        3.071946e-13\n",
       "corgiai         3.060157e-13\n",
       "bittensor       2.976339e-13\n",
       "dtype: float64"
      ]
     },
     "execution_count": 43,
     "metadata": {},
     "output_type": "execute_result"
    }
   ],
   "source": [
    "weights = cp.Variable(n_assets)\n",
    "binary_selection = cp.Variable(n_assets, boolean=True)\n",
    "\n",
    "mu = mu_expected_return.values\n",
    "sigma = sigma_covariance.values\n",
    "sigma_wrapped = cp.psd_wrap(sigma)\n",
    "\n",
    "#max_risk = 0.05  # Maximum acceptable variance (risk level)\n",
    "risk = cp.quad_form(weights, sigma_wrapped)\n",
    "\n",
    "expected_return = mu.T @ weights\n",
    "objective = cp.Maximize(expected_return)\n",
    "\n",
    "constraints = [\n",
    "    cp.sum(weights) == 1,  # Sum of weights is 1\n",
    "    weights >= 0,          # No short selling\n",
    "    #cp.sum(binary_selection) <= default_max_assets,  # No more than 5 assets\n",
    "    #weights <= binary_selection,     # Link weights to selection\n",
    "    weights >= [default_min_weights_assets[asset] for asset in lst_assets], #\n",
    "    weights <= [default_max_weights_assets[asset] for asset in lst_assets], #\n",
    "    #risk <= max_risk\n",
    "]\n",
    "\n",
    "prob = cp.Problem(objective, constraints)\n",
    "prob.solve()\n",
    "\n",
    "optimized_weights = weights.value\n",
    "\n",
    "pd.Series(dict(zip(lst_assets, optimized_weights))).sort_values(ascending=False).head(10)"
   ]
  },
  {
   "cell_type": "markdown",
   "metadata": {},
   "source": [
    "# more constraints"
   ]
  },
  {
   "cell_type": "code",
   "execution_count": 82,
   "metadata": {},
   "outputs": [],
   "source": [
    "max_weights_categories['market_cap'] = {'XL Market Cap': 1.0,\n",
    "  'Large Market Cap': 0.8,\n",
    "  'Medium Market Cap': 0.5,\n",
    "  'Small Market Cap': 0.2,\n",
    "  'XS Market Cap': 0.0}"
   ]
  },
  {
   "cell_type": "code",
   "execution_count": 87,
   "metadata": {},
   "outputs": [],
   "source": [
    "min_weights_categories['groupings_1'] = {\n",
    "    'Layer 1 (L1)': 0.0,\n",
    "    'Cryptocurrency': 0.2,\n",
    "    'Smart Contract Platform': 0.3,\n",
    "    'Stablecoins': 0.3,\n",
    "    'Centralized Exchange (CEX)': 0.0,\n",
    "    'Decentralized Finance (DeFi)': 0.0,\n",
    "    'Meme': 0.0,\n",
    "    'NFT': 0.0,\n",
    "    'Layer 2 (L2)': 0.0,\n",
    "    'NFT Marketplace': 0.0\n",
    "    }"
   ]
  },
  {
   "cell_type": "code",
   "execution_count": 88,
   "metadata": {},
   "outputs": [
    {
     "name": "stderr",
     "output_type": "stream",
     "text": [
      "/Users/gm/repo/portfolio_opt/cryptocurrency_portfolio_optimiser/cryopt/lib/python3.10/site-packages/cvxpy/reductions/solvers/solving_chain.py:336: FutureWarning: \n",
      "    Your problem is being solved with the ECOS solver by default. Starting in \n",
      "    CVXPY 1.5.0, Clarabel will be used as the default solver instead. To continue \n",
      "    using ECOS, specify the ECOS solver explicitly using the ``solver=cp.ECOS`` \n",
      "    argument to the ``problem.solve`` method.\n",
      "    \n",
      "  warnings.warn(ECOS_DEPRECATION_MSG, FutureWarning)\n"
     ]
    },
    {
     "data": {
      "text/plain": [
       "solana               3.000000e-01\n",
       "tether               2.999999e-01\n",
       "bitcoin              2.000000e-01\n",
       "bonk                 2.000000e-01\n",
       "usd-coin             1.427607e-07\n",
       "dogecoin             1.777598e-11\n",
       "fetch-ai             1.226792e-11\n",
       "near                 5.373671e-12\n",
       "internet-computer    3.024110e-12\n",
       "avalanche-2          2.351627e-12\n",
       "uniswap              1.867087e-12\n",
       "filecoin             1.600160e-12\n",
       "litecoin             1.588652e-12\n",
       "beam-2               1.481069e-12\n",
       "chainlink            1.417076e-12\n",
       "matic-network        1.280029e-12\n",
       "ripple               1.268086e-12\n",
       "cardano              1.236614e-12\n",
       "staked-ether         1.084682e-12\n",
       "binancecoin          1.081367e-12\n",
       "dtype: float64"
      ]
     },
     "execution_count": 88,
     "metadata": {},
     "output_type": "execute_result"
    }
   ],
   "source": [
    "weights = cp.Variable(n_assets)\n",
    "binary_selection = cp.Variable(n_assets, boolean=True)\n",
    "\n",
    "mu = mu_expected_return.values\n",
    "sigma = sigma_covariance.values\n",
    "sigma_wrapped = cp.psd_wrap(sigma)\n",
    "\n",
    "#max_risk = 0.05  # Maximum acceptable variance (risk level)\n",
    "risk = cp.quad_form(weights, sigma_wrapped)\n",
    "\n",
    "expected_return = mu.T @ weights\n",
    "objective = cp.Maximize(expected_return)\n",
    "\n",
    "constraints = [\n",
    "    cp.sum(weights) == 1,  # Sum of weights is 1\n",
    "    weights >= 0,          # No short selling\n",
    "    #cp.sum(binary_selection) <= default_max_assets,  # No more than 5 assets\n",
    "    #weights <= binary_selection,     # Link weights to selection\n",
    "    weights >= [min_weights_assets[asset] for asset in lst_assets], #\n",
    "    weights <= [max_weights_assets[asset] for asset in lst_assets], #\n",
    "    #risk <= max_risk\n",
    "]\n",
    "\n",
    "for grouping, categories in dct_category_groupings.items():\n",
    "    for category in categories:\n",
    "        category_assets = dct_coin_category[category]\n",
    "        category_indices = [i for i, asset in enumerate(lst_assets) if asset in category_assets]\n",
    "        category_weight_sum = cp.sum(weights[category_indices])\n",
    "        constraints += [\n",
    "            category_weight_sum >= min_weights_categories[grouping][category],\n",
    "            category_weight_sum <= max_weights_categories[grouping][category]\n",
    "        ]\n",
    "\n",
    "prob = cp.Problem(objective, constraints)\n",
    "prob.solve()\n",
    "\n",
    "optimized_weights = weights.value\n",
    "\n",
    "allocation = pd.Series(dict(zip(lst_assets, optimized_weights))).sort_values(ascending=False)\n",
    "allocation.head(20)"
   ]
  },
  {
   "cell_type": "code",
   "execution_count": 93,
   "metadata": {},
   "outputs": [],
   "source": [
    "allocation_final = allocation.head(default_max_assets).round(3)\n",
    "allocation_final = allocation_final[allocation_final > 0]\n",
    "allocation_final = allocation_final * (1/allocation_final.sum())"
   ]
  },
  {
   "cell_type": "code",
   "execution_count": null,
   "metadata": {},
   "outputs": [],
   "source": []
  }
 ],
 "metadata": {
  "kernelspec": {
   "display_name": "popt",
   "language": "python",
   "name": "python3"
  },
  "language_info": {
   "codemirror_mode": {
    "name": "ipython",
    "version": 3
   },
   "file_extension": ".py",
   "mimetype": "text/x-python",
   "name": "python",
   "nbconvert_exporter": "python",
   "pygments_lexer": "ipython3",
   "version": "3.10.6"
  }
 },
 "nbformat": 4,
 "nbformat_minor": 2
}
